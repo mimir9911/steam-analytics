{
 "cells": [
  {
   "cell_type": "markdown",
   "metadata": {},
   "source": [
    "# Get App Details of Global Top Sellers"
   ]
  },
  {
   "cell_type": "markdown",
   "metadata": {},
   "source": [
    "## Definition to Get App Details\n",
    "\n",
    "This function retrieves detailed information about a game from the Steam store using the Steam API.\n",
    "\n",
    "### Parameters:\n",
    "- `app_id`: The unique identifier for the Steam game whose details need to be fetched."
   ]
  },
  {
   "cell_type": "code",
   "execution_count": null,
   "metadata": {},
   "outputs": [],
   "source": [
    "def get_app_details(app_id):\n",
    "    url = \"https://store.steampowered.com/api/appdetails/\"\n",
    "    params = {\"appids\": app_id, \"l\": \"english\"}\n",
    "    \n",
    "    while True:\n",
    "        if app_id is None:\n",
    "            print_log(\"App ID is None.\")\n",
    "            return {}\n",
    "        response = requests.get(url, params=params)\n",
    "        if response.status_code == 200:\n",
    "            data = response.json()\n",
    "            appdetails = data.get(str(app_id), {})\n",
    "            if appdetails.get(\"success\", False):\n",
    "                print_log(f\"App ID: {app_id} : Success\")\n",
    "                game_info = {\n",
    "                    \"type\": appdetails.get(\"data\", {}).get(\"type\", None),\n",
    "                    \"name\": appdetails.get(\"data\", {}).get(\"name\", None),\n",
    "                    \"steam_appid\": app_id,\n",
    "                    \"is_free\": appdetails.get(\"data\", {}).get(\"is_free\", None),\n",
    "                    \"supported_languages\": appdetails.get(\"data\", {}).get(\"supported_languages\", None),\n",
    "                    \"developers\": appdetails.get(\"data\", {}).get(\"developers\", None),\n",
    "                    \"publishers\": appdetails.get(\"data\", {}).get(\"publishers\", None),\n",
    "                    \"price_overview\": appdetails.get(\"data\", {}).get(\"price_overview\", {}).get(\"final_formatted\", None),\n",
    "                    \"original_price\": appdetails.get(\"data\", {}).get(\"price_overview\", {}).get(\"initial_formatted\", None),\n",
    "                    \"discounted_price\": appdetails.get(\"data\", {}).get(\"price_overview\", {}).get(\"final_formatted\", None),\n",
    "                    \"platforms\": appdetails.get(\"data\", {}).get(\"platforms\", None),\n",
    "                    \"genres\": [genre.get(\"description\") for genre in appdetails.get(\"data\", {}).get(\"genres\", [])],\n",
    "                    \"achievements\": appdetails.get(\"data\", {}).get(\"achievements\", {}).get(\"total\", None),\n",
    "                }\n",
    "                return game_info\n",
    "            else:\n",
    "                print_log(f\"App ID: {app_id} - No details found or 'success' is FALSE.\")\n",
    "                break\n",
    "        elif response.status_code == 429:\n",
    "            print_log(\"Too many requests. Sleep for 10sec\")\n",
    "            time.sleep(10)\n",
    "            continue\n",
    "        elif response.status_code == 403:\n",
    "            print_log(\"Forbidden access. Sleep for 5min.\")\n",
    "            time.sleep(5 * 60)\n",
    "            continue\n",
    "        else:\n",
    "            print_log(f\"ERROR: status code {response.status_code}\")\n",
    "            print_log(f\"Error in App ID: {app_id}.\")\n",
    "            break\n",
    "    return {}"
   ]
  },
  {
   "cell_type": "markdown",
   "metadata": {},
   "source": [
    "The section below extracts information about the ratings the games receive. "
   ]
  },
  {
   "cell_type": "code",
   "execution_count": null,
   "metadata": {},
   "outputs": [],
   "source": [
    "def get_review_summary(app_id):\n",
    "    url = f\"https://store.steampowered.com/appreviews/{app_id}?json=1\"\n",
    "    response = requests.get(url)\n",
    "    if response.status_code != 200:\n",
    "        print_log(f\"Failed to fetch review summary for App ID {app_id}, Status Code: {response.status_code}\")\n",
    "        return {}\n",
    "    try:\n",
    "        data = response.json()\n",
    "    except Exception as e:\n",
    "        print_log(f\"Failed to parse review summary for App ID {app_id}: {e}\")\n",
    "        return {}\n",
    "    if data.get(\"success\", 0) != 1:\n",
    "        print_log(f\"Error fetching review summary for App ID {app_id}: {data.get('error')}\")\n",
    "        return {}\n",
    "    query_summary = data.get(\"query_summary\", {})\n",
    "    summary = {\n",
    "        \"num_reviews\": query_summary.get(\"num_reviews\"),\n",
    "        \"review_score\": query_summary.get(\"review_score\"),\n",
    "        \"review_score_desc\": query_summary.get(\"review_score_desc\"),\n",
    "        \"total_positive\": query_summary.get(\"total_positive\"),\n",
    "        \"total_negative\": query_summary.get(\"total_negative\"),\n",
    "        \"total_reviews\": query_summary.get(\"total_reviews\")\n",
    "    }\n",
    "    return summary"
   ]
  },
  {
   "cell_type": "markdown",
   "metadata": {},
   "source": [
    "## Main Script to Obtain Game Details\n",
    "\n",
    "We generate a folder name based on the current date (YYYYMMDD format) and creates the folder if it doesn't already exist. Then we define a range of pages (1 to 8) for pagination. This range can be adjusted as needed, for example, for future research that requires a larger sample.\n",
    "\n",
    "### Default Parameters\n",
    "- `category1:998`: This ensures that the search results only show **games** from the global top sellers search.\n",
    "- `ndl`: This ensures that the search results do not show any DLCs."
   ]
  },
  {
   "cell_type": "code",
   "execution_count": null,
   "metadata": {},
   "outputs": [],
   "source": [
    "execute_datetime = datetime.now()\n",
    "search_result_folder_path = Path(f\"search_results_{execute_datetime.strftime('%Y%m%d')}\")\n",
    "if not search_result_folder_path.exists():\n",
    "    search_result_folder_path.mkdir()\n",
    "\n",
    "params_list = [\n",
    "    {\"filter\": \"globaltopsellers\"},\n",
    "]\n",
    "page_list = list(range(1, 9))  ## ADJUST THE PAGE RANGE\n",
    "params_sr_default = {\n",
    "    \"category1\": 998,\n",
    "    \"ndl\": 1,\n",
    "    \"filter\": \"globaltopsellers\",\n",
    "    \"page\": 1,\n",
    "    \"json\": 1\n",
    "}\n",
    "\n",
    "all_data = []\n",
    "seen_appids = set() "
   ]
  },
  {
   "cell_type": "code",
   "execution_count": null,
   "metadata": {},
   "outputs": [],
   "source": [
    "for update_param in params_list:\n",
    "    items_all = []\n",
    "    if update_param[\"filter\"]:\n",
    "        filename = f\"{update_param['filter']}_{execute_datetime.strftime('%Y%m%d')}.pkl\"\n",
    "    else:\n",
    "        filename = f\"specials_{execute_datetime.strftime('%Y%m%d')}.pkl\"\n",
    "    if (search_result_folder_path / filename).exists():\n",
    "        print_log(f\"File {filename} exists. Skip.\")\n",
    "        continue\n",
    "    for page_no in page_list:\n",
    "        param = params_sr_default.copy()\n",
    "        param.update(update_param)\n",
    "        param[\"page\"] = page_no\n",
    "\n",
    "        search_results = get_search_results(param)\n",
    "        if not search_results:\n",
    "            continue\n",
    "        items = search_results.get(\"items\", [])\n",
    "\n",
    "        for item in items:\n",
    "            try:\n",
    "                item[\"appid\"] = re.search(r\"steam/\\w+/(\\d+)\", item[\"logo\"]).group(1)\n",
    "            except Exception as e:\n",
    "                print_log(f\"Failed to extract appid: {e}\")\n",
    "                item[\"appid\"] = None\n",
    "\n",
    "        for item in items:\n",
    "            appid = item[\"appid\"]\n",
    "            if appid is None or appid in seen_appids:  \n",
    "                continue\n",
    "            seen_appids.add(appid) \n",
    "\n",
    "            appdetails = get_app_details(appid)\n",
    "            if appdetails:\n",
    "                item.update(appdetails)\n",
    "\n",
    "            review_summary = get_review_summary(appid)\n",
    "            if review_summary:\n",
    "                item.update(review_summary)\n",
    "\n",
    "        items_all.extend(items)\n",
    "\n",
    "    all_data.extend(items_all)"
   ]
  },
  {
   "cell_type": "markdown",
   "metadata": {},
   "source": [
    "## Saving the Results\n",
    "\n",
    "Once all the requirements set above had been satisifed, we save the final dataset from the day as a CSV file into the folder we had initially created. "
   ]
  },
  {
   "cell_type": "code",
   "execution_count": null,
   "metadata": {},
   "outputs": [],
   "source": [
    "if all_data:  \n",
    "    df = pd.DataFrame(all_data)\n",
    "    df.drop_duplicates(subset=['steam_appid'], inplace=True)  \n",
    "    if update_param[\"filter\"]:\n",
    "        csv_filename = f\"{update_param['filter']}_{execute_datetime.strftime('%Y%m%d')}.csv\"\n",
    "    else:\n",
    "        csv_filename = f\"specials_{execute_datetime.strftime('%Y%m%d')}.csv\"\n",
    "    csv_path = search_result_folder_path / csv_filename\n",
    "    df.to_csv(csv_path, index=False)\n",
    "\n",
    "    print_log(f\"CSV file saved to {csv_path}\")"
   ]
  }
 ],
 "metadata": {
  "kernelspec": {
   "display_name": "base",
   "language": "python",
   "name": "python3"
  },
  "language_info": {
   "name": "python",
   "version": "3.12.9"
  }
 },
 "nbformat": 4,
 "nbformat_minor": 2
}
