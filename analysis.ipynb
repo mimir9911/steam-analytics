{
 "cells": [
  {
   "cell_type": "markdown",
   "metadata": {},
   "source": [
    "# Analysis\n",
    "\n",
    "In this section, we analyze the final dataset to answer the research questions."
   ]
  },
  {
   "cell_type": "markdown",
   "metadata": {},
   "source": [
    "## VIF Analysis\n",
    "\n",
    "The VIF analysis helps us detect multicollinearity in the dataset."
   ]
  },
  {
   "cell_type": "code",
   "execution_count": null,
   "metadata": {},
   "outputs": [],
   "source": [
    "df_vif = combined_reviews[\n",
    "    [\n",
    "        'num_games_owned', 'num_reviews_author', 'playtime_forever',\n",
    "        'playtime_last_two_weeks', 'playtime_at_review', 'deck_playtime_at_review',\n",
    "        'last_played', 'weighted_vote_score', 'voted_up_binary',\n",
    "        'weighted_positive', 'original_price_numeric', 'discounted_price_numeric',\n",
    "        'price_overview_numeric', 'discount_ratio', 'log_price'\n",
    "    ]\n",
    "].select_dtypes(include=[np.number]).dropna()\n",
    "\n",
    "vif_data = pd.DataFrame({\n",
    "    \"Feature\": df_vif.columns,\n",
    "    \"VIF\": [variance_inflation_factor(df_vif.values, i) for i in range(df_vif.shape[1])]\n",
    "})\n",
    "\n",
    "print(vif_data)"
   ]
  },
  {
   "cell_type": "markdown",
   "metadata": {},
   "source": [
    "As seen above, some of the variables show severe multicollinearity, meaning, they are redundant. The next step is then to drop some of these values."
   ]
  },
  {
   "cell_type": "code",
   "execution_count": null,
   "metadata": {},
   "outputs": [],
   "source": [
    "df_vif_reduced = df_vif.drop(columns=[\n",
    "    'last_played', 'weighted_positive', 'weighted_vote_score',\n",
    "    'discounted_price_numeric', 'original_price_numeric'\n",
    "], errors='ignore')\n",
    "\n",
    "# Recalculate VIF after feature selection\n",
    "vif_data_reduced = pd.DataFrame({\n",
    "    \"Feature\": df_vif_reduced.columns,\n",
    "    \"VIF\": [variance_inflation_factor(df_vif_reduced.values, i) for i in range(df_vif_reduced.shape[1])]\n",
    "})\n",
    "\n",
    "print(vif_data_reduced)"
   ]
  },
  {
   "cell_type": "markdown",
   "metadata": {},
   "source": [
    "## Price Analysis\n",
    "\n",
    "To answer the first sub-question, we run a logistic regression analysis. "
   ]
  },
  {
   "cell_type": "code",
   "execution_count": null,
   "metadata": {},
   "outputs": [],
   "source": [
    "## DEFINE INDEPENDENT AND DEPENDENT VARIABLES\n",
    "X_price = combined_reviews[['price_overview_numeric', 'discount_ratio']].copy()\n",
    "y = combined_reviews['voted_up_binary'] \n",
    "\n",
    "## MEAN-CENTER PRICE \n",
    "X_price['price_centered'] = (X_price['price_overview_numeric'] - X_price['price_overview_numeric'].mean()) / X_price['price_overview_numeric'].std()\n",
    "\n",
    "## CREATING AN INTERACTION TERM\n",
    "X_price['price_discount_interaction'] = X_price['price_centered'] * X_price['discount_ratio']\n",
    "\n",
    "## DROP ORIGINAL `PRICE_OVERVIEW_NUMERIC` TO AVOID REDUNDANCY\n",
    "X_price = X_price.drop(columns=['price_overview_numeric'])\n",
    "\n",
    "## DROP NA AND INF VALUES\n",
    "X_price = X_price.replace([np.inf, -np.inf], np.nan).dropna()\n",
    "y = y.loc[X_price.index]\n",
    "\n",
    "## ADD CONSTANT\n",
    "X_price = sm.add_constant(X_price)\n",
    "\n",
    "## LOGISTIC REGRESSION MODEL \n",
    "logit_model_price = sm.Logit(y, X_price).fit(maxiter=100)\n",
    "print(logit_model_price.summary())"
   ]
  },
  {
   "cell_type": "markdown",
   "metadata": {},
   "source": [
    "## Playtime Analysis\n",
    "\n",
    "To answer the second sub-question, we run a logistic regression analysis. "
   ]
  },
  {
   "cell_type": "code",
   "execution_count": null,
   "metadata": {},
   "outputs": [],
   "source": [
    "## DEFINE INDEPENDENT AND DEPENDENT VARIABLES\n",
    "X_playtime = combined_reviews[['playtime_forever', 'playtime_at_review']].copy() \n",
    "y = combined_reviews['voted_up_binary']\n",
    "\n",
    "## CREATING AN INTERACTION TERM\n",
    "X_playtime['playtime_interaction'] = X_playtime['playtime_forever'] * X_playtime['playtime_at_review']\n",
    "\n",
    "## DROP NA AND INF VALUES\n",
    "X_playtime = X_playtime.replace([np.inf, -np.inf], np.nan).dropna()\n",
    "y = y.loc[X_playtime.index] \n",
    "\n",
    "## ADD CONSTANT\n",
    "X_playtime = sm.add_constant(X_playtime)\n",
    "\n",
    "## LOGISTIC REGRESSION MODEL \n",
    "logit_model_playtime = sm.Logit(y, X_playtime).fit()\n",
    "print(logit_model_playtime.summary())"
   ]
  },
  {
   "cell_type": "markdown",
   "metadata": {},
   "source": [
    "## Game Ownership Analysis\n",
    "\n",
    "To answer the third sub-question, we run a logistic regression analysis."
   ]
  },
  {
   "cell_type": "code",
   "execution_count": null,
   "metadata": {},
   "outputs": [],
   "source": [
    "## DEFINE INDEPENDENT AND DEPENDENT VARIABLES\n",
    "X_own = combined_reviews[['num_games_owned']]\n",
    "y = combined_reviews['voted_up_binary']\n",
    "\n",
    "## DROP NA AND INF VALUES\n",
    "X_own = X_own.replace([np.inf, -np.inf], np.nan).dropna()\n",
    "y = y.loc[X_own.index]  \n",
    "\n",
    "## ADD CONSTANT\n",
    "X_own = sm.add_constant(X_own)\n",
    "\n",
    "## LOGISTIC REGRESSION MODEL \n",
    "logit_model_games_owned = sm.Logit(y, X_own).fit()\n",
    "print(logit_model_games_owned.summary())"
   ]
  }
 ],
 "metadata": {
  "kernelspec": {
   "display_name": "base",
   "language": "python",
   "name": "python3"
  },
  "language_info": {
   "codemirror_mode": {
    "name": "ipython",
    "version": 3
   },
   "file_extension": ".py",
   "mimetype": "text/x-python",
   "name": "python",
   "nbconvert_exporter": "python",
   "pygments_lexer": "ipython3",
   "version": "3.12.9"
  }
 },
 "nbformat": 4,
 "nbformat_minor": 2
}
