{
 "cells": [
  {
   "cell_type": "markdown",
   "metadata": {},
   "source": [
    "# Libraries and Global Top Sellers Function"
   ]
  },
  {
   "cell_type": "markdown",
   "metadata": {},
   "source": [
    "## Loading Packages\n",
    "All packages used are loaded into the kernell."
   ]
  },
  {
   "cell_type": "code",
   "execution_count": null,
   "metadata": {},
   "outputs": [],
   "source": [
    "import requests\n",
    "import time\n",
    "import pandas as pd\n",
    "from datetime import datetime, timedelta\n",
    "from pathlib import Path\n",
    "import re\n",
    "import numpy as np\n",
    "import statsmodels.api as sm\n",
    "import matplotlib.pyplot as plt\n",
    "import seaborn as sns\n",
    "from statsmodels.stats.outliers_influence import variance_inflation_factor\n",
    "from IPython.display import display"
   ]
  },
  {
   "cell_type": "markdown",
   "metadata": {},
   "source": [
    "## Definition to Load Steam Global Top Sellers \n",
    "\n",
    "First, we run the code by date, hence, daily dataset may differ. "
   ]
  },
  {
   "cell_type": "code",
   "execution_count": null,
   "metadata": {},
   "outputs": [],
   "source": [
    "def print_log(*args):\n",
    "    print(f\"[{str(datetime.now())[:-3]}] \", end=\"\")\n",
    "    print(*args)"
   ]
  },
  {
   "cell_type": "markdown",
   "metadata": {},
   "source": [
    "Second, we scrape the search results from the Global Top Sellers page on Steam. As mentioned earlier, this page refreshes every 24 hours. "
   ]
  },
  {
   "cell_type": "code",
   "execution_count": null,
   "metadata": {},
   "outputs": [],
   "source": [
    "def get_search_results(params):\n",
    "    req_sr = requests.get(\"https://store.steampowered.com/search/results/\", params=params)\n",
    "    if req_sr.status_code != 200:\n",
    "        print_log(f\"Failed to get search results: {req_sr.status_code}\")\n",
    "        return {\"items\": []}\n",
    "    try:\n",
    "        search_results = req_sr.json()\n",
    "    except Exception as e:\n",
    "        print_log(f\"Failed to parse search results: {e}\")\n",
    "        return {\"items\": []}\n",
    "    return search_results"
   ]
  }
 ],
 "metadata": {
  "kernelspec": {
   "display_name": "base",
   "language": "python",
   "name": "python3"
  },
  "language_info": {
   "codemirror_mode": {
    "name": "ipython",
    "version": 3
   },
   "file_extension": ".py",
   "mimetype": "text/x-python",
   "name": "python",
   "nbconvert_exporter": "python",
   "pygments_lexer": "ipython3",
   "version": "3.12.9"
  }
 },
 "nbformat": 4,
 "nbformat_minor": 2
}
