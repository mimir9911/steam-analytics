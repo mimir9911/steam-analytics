{
 "cells": [
  {
   "cell_type": "markdown",
   "id": "bb3adddc",
   "metadata": {},
   "source": [
    "# Plots\n",
    "\n",
    "In this section, different plots are arranged to visualize the dataset."
   ]
  },
  {
   "cell_type": "code",
   "execution_count": null,
   "id": "5a0f99d6-8d46-453f-b45e-adf872411f20",
   "metadata": {},
   "outputs": [],
   "source": [
    "combined_reviews.describe() ## SUMMARY STATISTICS"
   ]
  },
  {
   "cell_type": "code",
   "execution_count": null,
   "id": "28f8b9c4-383e-41c5-a75d-6ab9bc0603da",
   "metadata": {},
   "outputs": [],
   "source": [
    "## FINDING NA VALUES\n",
    "missing_counts = combined_reviews.isna().sum()\n",
    "print(missing_counts)"
   ]
  },
  {
   "cell_type": "markdown",
   "id": "b3d3b318",
   "metadata": {},
   "source": [
    "## Figure 1\n",
    "\n",
    "Figure 1 compares the total number of positive and negative reviews in the dataset."
   ]
  },
  {
   "cell_type": "code",
   "execution_count": null,
   "id": "1a9494f9-c79c-4c41-8e08-e1b0948d29bf",
   "metadata": {},
   "outputs": [],
   "source": [
    "## CALCULATE TOTAL POSITIVE AND NEGATIVE REVIEWS\n",
    "positive_total = combined_reviews['total_positive'].sum()\n",
    "negative_total = combined_reviews['total_negative'].sum()\n",
    "\n",
    "## CREATING DATASET FOR THE PLOT\n",
    "review_types = ['Positive', 'Negative']\n",
    "counts = [positive_total, negative_total]\n",
    "\n",
    "## CREATING THE BARCHART\n",
    "plt.figure(figsize=(8, 6))\n",
    "bars = plt.bar(review_types, counts, color=['green', 'red'])\n",
    "\n",
    "plt.title(\"Total Positive vs. Negative Reviews\")\n",
    "plt.xlabel(\"Review Type\")\n",
    "plt.ylabel(\"Total Reviews\")\n",
    "\n",
    "## ANNOTATING BARS\n",
    "for bar in bars:\n",
    "    yval = bar.get_height()\n",
    "    plt.text(bar.get_x() + bar.get_width()/2.0, yval, f'{int(yval)}', ha='center', va='bottom')\n",
    "\n",
    "plt.tight_layout()\n",
    "plt.savefig(\"total_positive_negative_reviews.jpg\", format=\"jpg\", dpi=300)\n",
    "plt.show()"
   ]
  },
  {
   "cell_type": "markdown",
   "id": "0ffd9796",
   "metadata": {},
   "source": [
    "## Figure 2\n",
    "\n",
    "Figure 2 presents a bar chart depicting the distribution of review scores within the dataset."
   ]
  },
  {
   "cell_type": "code",
   "execution_count": null,
   "id": "eafe5243-62aa-45ae-983e-8d60258a04f6",
   "metadata": {},
   "outputs": [],
   "source": [
    "## CALCULATING THE FREQUENCY OF EACH REVIEW SCORE AND SORT BY SCORE\n",
    "score_counts = combined_reviews['review_score'].value_counts().sort_index()\n",
    "\n",
    "plt.figure(figsize=(10, 6))\n",
    "ax = score_counts.plot(kind='bar', color='orange', edgecolor='black')\n",
    "plt.title(\"Distribution of Review Scores\")\n",
    "plt.xlabel(\"Review Score\")\n",
    "plt.ylabel(\"Frequency\")\n",
    "plt.xticks(rotation=0)\n",
    "plt.tight_layout()\n",
    "\n",
    "## ANNOTATING BARS\n",
    "for i, count in enumerate(score_counts):\n",
    "    plt.text(i, count, f'{count}', ha='center', va='bottom')\n",
    "\n",
    "plt.savefig(\"review_score_distribution_annotated.jpg\", format=\"jpg\", dpi=300)\n",
    "plt.show()"
   ]
  },
  {
   "cell_type": "markdown",
   "id": "88b80391",
   "metadata": {},
   "source": [
    "## Figure 3\n",
    "\n",
    "Figure 3 shows the distribution of genres of games appearing in the dataset."
   ]
  },
  {
   "cell_type": "code",
   "execution_count": null,
   "id": "ef81a0ed-24c5-4b46-9b86-e880d61cceaa",
   "metadata": {},
   "outputs": [],
   "source": [
    "## HELPER FUNCTION TO PARSE A STRING INTO A LIST\n",
    "def parse_genres(genre_str):\n",
    "    if pd.isnull(genre_str):\n",
    "        return [] \n",
    "    try:\n",
    "        return ast.literal_eval(genre_str)\n",
    "    except:\n",
    "        ## IF PARSING FAILS, RETURN ORIGINAL STRING IN A LIST\n",
    "        return [genre_str]\n",
    "\n",
    "## CONVERT GENRES FROM STRING TO LIST\n",
    "combined_reviews['genres_list'] = combined_reviews['genres'].apply(parse_genres)\n",
    "\n",
    "## EXPLODE THE `GENRES_LIST` SO EACH GENRE IS ON ITS OWN ROW\n",
    "df_exploded = combined_reviews.explode('genres_list')\n",
    "\n",
    "## CLEAN UP WHITESPACE\n",
    "df_exploded['genres_list'] = df_exploded['genres_list'].str.strip()\n",
    "\n",
    "## COUNT GENRES LIST\n",
    "genre_counts = df_exploded['genres_list'].value_counts()\n",
    "\n",
    "## CREATING A BARCHART\n",
    "plt.figure(figsize=(10, 6))\n",
    "ax = genre_counts.plot(kind='bar', color='skyblue')\n",
    "plt.title(\"Distribution of Game Genres\")\n",
    "plt.xlabel(\"Genres\")\n",
    "plt.ylabel(\"Count\")\n",
    "plt.xticks(rotation=45, ha='right')\n",
    "plt.tight_layout()\n",
    "\n",
    "## ANNOTATING BARS\n",
    "for i, count in enumerate(genre_counts):\n",
    "    plt.text(i, count, str(count), ha='center', va='bottom')\n",
    "\n",
    "plt.savefig(\"distribution_of_game_genres.jpg\", format=\"jpg\", dpi=300)\n",
    "plt.show()"
   ]
  },
  {
   "cell_type": "markdown",
   "id": "08a4537b",
   "metadata": {},
   "source": [
    "## Figure 4\n",
    "\n",
    "Figure 4 depicts how the average number of positive, negative, and total reviews changed from March 2 to March 8, 2025."
   ]
  },
  {
   "cell_type": "code",
   "execution_count": null,
   "id": "17c4bdcb-3f3c-4c1e-9bb8-a8e7f67bc930",
   "metadata": {},
   "outputs": [],
   "source": [
    "## GROUP BY EXTRACTION DATE AND CALCULATE MEAN FOR THE REVIEW VARIABLES\n",
    "mean_reviews = combined_reviews.groupby('extraction_date_y')[['total_positive', 'total_negative', 'total_reviews']].mean().reset_index()\n",
    "\n",
    "plt.figure(figsize=(10, 6))\n",
    "\n",
    "## PLOT MEAN POSITIVE, NEGATIVE, AND TOTAL REVIEWS OVER TIME WITH MARKERS\n",
    "plt.plot(mean_reviews['extraction_date_y'], mean_reviews['total_positive'], label='Avg Positive Reviews', marker='o')\n",
    "plt.plot(mean_reviews['extraction_date_y'], mean_reviews['total_negative'], label='Avg Negative Reviews', marker='o')\n",
    "plt.plot(mean_reviews['extraction_date_y'], mean_reviews['total_reviews'], label='Avg Total Reviews', marker='o')\n",
    "\n",
    "\n",
    "## ANNOTATING EACH POINT FOR POSITIVE, NEGATIVE, AND TOTAL REVIEWS\n",
    "for idx, row in mean_reviews.iterrows():\n",
    "    plt.annotate(f'{row[\"total_positive\"]:.1f}', \n",
    "                 (row['extraction_date_y'], row['total_positive']), \n",
    "                 textcoords=\"offset points\", \n",
    "                 xytext=(0,5), \n",
    "                 ha='center')\n",
    "for idx, row in mean_reviews.iterrows():\n",
    "    plt.annotate(f'{row[\"total_negative\"]:.1f}', \n",
    "                 (row['extraction_date_y'], row['total_negative']), \n",
    "                 textcoords=\"offset points\", \n",
    "                 xytext=(0,-10), \n",
    "                 ha='center')\n",
    "for idx, row in mean_reviews.iterrows():\n",
    "    plt.annotate(f'{row[\"total_reviews\"]:.1f}', \n",
    "                 (row['extraction_date_y'], row['total_reviews']), \n",
    "                 textcoords=\"offset points\", \n",
    "                 xytext=(0,5), \n",
    "                 ha='center')\n",
    "\n",
    "plt.xlabel('Extraction Date')\n",
    "plt.ylabel('Average Number of Reviews')\n",
    "plt.title('Change in the Average Number of Positive, Negative, and Total Reviews Over Time')\n",
    "plt.legend()\n",
    "plt.savefig(\"mean_reviews.png\", dpi=300, bbox_inches=\"tight\")\n",
    "plt.show()"
   ]
  },
  {
   "cell_type": "markdown",
   "id": "b45aad00",
   "metadata": {},
   "source": [
    "## Figure 5\n",
    "\n",
    "Figure 5 shows the change in average playtime at review by genre over time."
   ]
  },
  {
   "cell_type": "code",
   "execution_count": null,
   "id": "718eb0be-581f-41aa-88cb-066a8155f17a",
   "metadata": {},
   "outputs": [],
   "source": [
    "def parse_genres(genre_str):\n",
    "    if pd.isnull(genre_str):\n",
    "        return []\n",
    "    try:\n",
    "        return ast.literal_eval(genre_str)\n",
    "    except:\n",
    "        return [genre_str]\n",
    "\n",
    "## CONVERT EXTRACTION_DATE_Y TO DATETIME\n",
    "df_exploded['extraction_date_y'] = pd.to_datetime(df_exploded['extraction_date_y'])\n",
    "\n",
    "## CREATE `DATE` COLUMN\n",
    "df_exploded['date'] = df_exploded['extraction_date_y'].dt.date\n",
    "\n",
    "## GROUP BY DATE AND THE SINGLE GENRE IN EACH ROW THEN COMPUTE AVG PLAYTIME\n",
    "grouped = df_exploded.groupby(['date', 'genres_list'])['playtime_at_review'].mean().reset_index()\n",
    "\n",
    "## PIVOT SO EACH GENRE BECOMES A SEPARATE COLUMN\n",
    "pivoted = grouped.pivot(index='date', columns='genres_list', values='playtime_at_review')\n",
    "\n",
    "## PLOT GENRE AS ITS OWN LINE\n",
    "plt.figure(figsize=(10, 6))\n",
    "for genre in pivoted.columns:\n",
    "    plt.plot(pivoted.index, pivoted[genre], marker='o', label=genre)\n",
    "\n",
    "plt.title(\"Change in Average Playtime at Review by Genre Over Time\")\n",
    "plt.xlabel(\"Extraction Date\")\n",
    "plt.ylabel(\"Average Playtime at Review (minutes)\")\n",
    "plt.xticks(rotation=45)\n",
    "plt.legend(bbox_to_anchor=(1.05, 1), loc='upper left')\n",
    "plt.tight_layout()\n",
    "plt.savefig(\"avg_playtime_genre.png\", dpi=300, bbox_inches=\"tight\")\n",
    "plt.show()"
   ]
  }
 ],
 "metadata": {
  "kernelspec": {
   "display_name": "Python [conda env:base] *",
   "language": "python",
   "name": "conda-base-py"
  },
  "language_info": {
   "codemirror_mode": {
    "name": "ipython",
    "version": 3
   },
   "file_extension": ".py",
   "mimetype": "text/x-python",
   "name": "python",
   "nbconvert_exporter": "python",
   "pygments_lexer": "ipython3",
   "version": "3.12.7"
  }
 },
 "nbformat": 4,
 "nbformat_minor": 5
}
